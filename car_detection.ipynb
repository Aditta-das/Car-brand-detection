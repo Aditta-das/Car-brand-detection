{
  "nbformat": 4,
  "nbformat_minor": 0,
  "metadata": {
    "colab": {
      "name": "car detection.ipynb",
      "provenance": []
    },
    "kernelspec": {
      "name": "python3",
      "display_name": "Python 3"
    },
    "accelerator": "GPU"
  },
  "cells": [
    {
      "cell_type": "code",
      "metadata": {
        "id": "cl7w8Ab-bwiK"
      },
      "source": [
        "import numpy as np\n",
        "import pandas as pd\n",
        "import matplotlib.pyplot as plt\n",
        "import cv2"
      ],
      "execution_count": null,
      "outputs": []
    },
    {
      "cell_type": "code",
      "metadata": {
        "id": "tPO1WWXvc_5Y"
      },
      "source": [
        "# !unzip car -d car"
      ],
      "execution_count": null,
      "outputs": []
    },
    {
      "cell_type": "code",
      "metadata": {
        "id": "1ppmDKiJdDPI",
        "outputId": "3020ee40-82a9-4cf8-f1ad-19d90e742ede",
        "colab": {
          "base_uri": "https://localhost:8080/",
          "height": 35
        }
      },
      "source": [
        "import os\n",
        "from tensorflow.keras.layers import Input, Lambda, Dense, Flatten\n",
        "from tensorflow.keras.applications.resnet50 import ResNet50\n",
        "from tensorflow.keras.applications.vgg19 import VGG19\n",
        "from tensorflow.keras.preprocessing import image\n",
        "from tensorflow.keras.preprocessing.image import ImageDataGenerator, load_img\n",
        "from tensorflow.keras.models import Sequential\n",
        "from tensorflow.keras.models import Model \n",
        "from glob import glob\n",
        "os.listdir(\"/content/car/car image\")"
      ],
      "execution_count": null,
      "outputs": [
        {
          "output_type": "execute_result",
          "data": {
            "text/plain": [
              "['train', 'test']"
            ]
          },
          "metadata": {
            "tags": []
          },
          "execution_count": 3
        }
      ]
    },
    {
      "cell_type": "code",
      "metadata": {
        "id": "EUQKAbp2gZY9",
        "outputId": "48aafc5e-3b41-44b3-87f8-c761a24b8fab",
        "colab": {
          "base_uri": "https://localhost:8080/",
          "height": 109
        }
      },
      "source": [
        "folder = glob(\"/content/car/car image/train/*\")\n",
        "folder"
      ],
      "execution_count": null,
      "outputs": [
        {
          "output_type": "execute_result",
          "data": {
            "text/plain": [
              "['/content/car/car image/train/Audi',\n",
              " '/content/car/car image/train/Marcedez Car',\n",
              " '/content/car/car image/train/Lamborghini',\n",
              " '/content/car/car image/train/Ferrari',\n",
              " '/content/car/car image/train/Tesla Car']"
            ]
          },
          "metadata": {
            "tags": []
          },
          "execution_count": 4
        }
      ]
    },
    {
      "cell_type": "code",
      "metadata": {
        "id": "KTxPDtp4dN9t"
      },
      "source": [
        "IMG_SIZE = 224\n",
        "train_path = \"/content/car/car image/train\"\n",
        "test_path = \"/content/car/car image/test\""
      ],
      "execution_count": null,
      "outputs": []
    },
    {
      "cell_type": "code",
      "metadata": {
        "id": "eCmEWdrUfs3N"
      },
      "source": [
        "resnet = VGG19(input_shape=[IMG_SIZE, IMG_SIZE, 3], weights=\"imagenet\", include_top=False)"
      ],
      "execution_count": null,
      "outputs": []
    },
    {
      "cell_type": "code",
      "metadata": {
        "id": "B1MmLyK8f_kL"
      },
      "source": [
        "for layer in resnet.layers:\n",
        "  layer.trainable = False"
      ],
      "execution_count": null,
      "outputs": []
    },
    {
      "cell_type": "code",
      "metadata": {
        "id": "K6wi66BfgriV"
      },
      "source": [
        "x = Flatten()(resnet.output)"
      ],
      "execution_count": null,
      "outputs": []
    },
    {
      "cell_type": "code",
      "metadata": {
        "id": "6CcG5eXlgK0J",
        "outputId": "e2765b8d-ebb9-48d1-9207-183994ef5ec1",
        "colab": {
          "base_uri": "https://localhost:8080/",
          "height": 1000
        }
      },
      "source": [
        "prediction = Dense(len(folder), activation=\"softmax\")(x)\n",
        "model = Model(inputs=resnet.input, outputs=prediction)\n",
        "model.summary()"
      ],
      "execution_count": null,
      "outputs": [
        {
          "output_type": "stream",
          "text": [
            "Model: \"functional_1\"\n",
            "_________________________________________________________________\n",
            "Layer (type)                 Output Shape              Param #   \n",
            "=================================================================\n",
            "input_1 (InputLayer)         [(None, 224, 224, 3)]     0         \n",
            "_________________________________________________________________\n",
            "block1_conv1 (Conv2D)        (None, 224, 224, 64)      1792      \n",
            "_________________________________________________________________\n",
            "block1_conv2 (Conv2D)        (None, 224, 224, 64)      36928     \n",
            "_________________________________________________________________\n",
            "block1_pool (MaxPooling2D)   (None, 112, 112, 64)      0         \n",
            "_________________________________________________________________\n",
            "block2_conv1 (Conv2D)        (None, 112, 112, 128)     73856     \n",
            "_________________________________________________________________\n",
            "block2_conv2 (Conv2D)        (None, 112, 112, 128)     147584    \n",
            "_________________________________________________________________\n",
            "block2_pool (MaxPooling2D)   (None, 56, 56, 128)       0         \n",
            "_________________________________________________________________\n",
            "block3_conv1 (Conv2D)        (None, 56, 56, 256)       295168    \n",
            "_________________________________________________________________\n",
            "block3_conv2 (Conv2D)        (None, 56, 56, 256)       590080    \n",
            "_________________________________________________________________\n",
            "block3_conv3 (Conv2D)        (None, 56, 56, 256)       590080    \n",
            "_________________________________________________________________\n",
            "block3_conv4 (Conv2D)        (None, 56, 56, 256)       590080    \n",
            "_________________________________________________________________\n",
            "block3_pool (MaxPooling2D)   (None, 28, 28, 256)       0         \n",
            "_________________________________________________________________\n",
            "block4_conv1 (Conv2D)        (None, 28, 28, 512)       1180160   \n",
            "_________________________________________________________________\n",
            "block4_conv2 (Conv2D)        (None, 28, 28, 512)       2359808   \n",
            "_________________________________________________________________\n",
            "block4_conv3 (Conv2D)        (None, 28, 28, 512)       2359808   \n",
            "_________________________________________________________________\n",
            "block4_conv4 (Conv2D)        (None, 28, 28, 512)       2359808   \n",
            "_________________________________________________________________\n",
            "block4_pool (MaxPooling2D)   (None, 14, 14, 512)       0         \n",
            "_________________________________________________________________\n",
            "block5_conv1 (Conv2D)        (None, 14, 14, 512)       2359808   \n",
            "_________________________________________________________________\n",
            "block5_conv2 (Conv2D)        (None, 14, 14, 512)       2359808   \n",
            "_________________________________________________________________\n",
            "block5_conv3 (Conv2D)        (None, 14, 14, 512)       2359808   \n",
            "_________________________________________________________________\n",
            "block5_conv4 (Conv2D)        (None, 14, 14, 512)       2359808   \n",
            "_________________________________________________________________\n",
            "block5_pool (MaxPooling2D)   (None, 7, 7, 512)         0         \n",
            "_________________________________________________________________\n",
            "flatten (Flatten)            (None, 25088)             0         \n",
            "_________________________________________________________________\n",
            "dense (Dense)                (None, 5)                 125445    \n",
            "=================================================================\n",
            "Total params: 20,149,829\n",
            "Trainable params: 125,445\n",
            "Non-trainable params: 20,024,384\n",
            "_________________________________________________________________\n"
          ],
          "name": "stdout"
        }
      ]
    },
    {
      "cell_type": "code",
      "metadata": {
        "id": "O9Jzk5tLhNSR"
      },
      "source": [
        "model.compile(metrics=[\"accuracy\"], loss=\"categorical_crossentropy\", optimizer=\"adam\")"
      ],
      "execution_count": null,
      "outputs": []
    },
    {
      "cell_type": "code",
      "metadata": {
        "id": "ezSf_ifuhdJz"
      },
      "source": [
        "train_datagen = ImageDataGenerator(rescale=1./255,\n",
        "                                   shear_range=0.2, \n",
        "                                   horizontal_flip=True,\n",
        "                                   zoom_range=0.2)\n",
        "test_datagen = ImageDataGenerator(rescale=1./255)"
      ],
      "execution_count": null,
      "outputs": []
    },
    {
      "cell_type": "code",
      "metadata": {
        "id": "_e1HP-rChzix",
        "outputId": "7dc3f71b-8613-444c-bad4-6040f5ffc78a",
        "colab": {
          "base_uri": "https://localhost:8080/",
          "height": 54
        }
      },
      "source": [
        "train_set = train_datagen.flow_from_directory(train_path,\n",
        "                                                  batch_size=10, \n",
        "                                                  target_size=(224, 224),\n",
        "                                                  class_mode=\"categorical\")\n",
        "test_set = test_datagen.flow_from_directory(test_path, \n",
        "                                                target_size=(224, 224),\n",
        "                                                batch_size=10,\n",
        "                                                class_mode=\"categorical\")"
      ],
      "execution_count": null,
      "outputs": [
        {
          "output_type": "stream",
          "text": [
            "Found 237 images belonging to 5 classes.\n",
            "Found 68 images belonging to 5 classes.\n"
          ],
          "name": "stdout"
        }
      ]
    },
    {
      "cell_type": "code",
      "metadata": {
        "id": "KvYp1PT-iXGe",
        "outputId": "a7da94ab-0821-4763-e05c-0a75a08b00ca",
        "colab": {
          "base_uri": "https://localhost:8080/",
          "height": 1000
        }
      },
      "source": [
        "history = model.fit_generator(train_set, validation_data=test_set,\n",
        "                              epochs=150,\n",
        "                              steps_per_epoch=len(train_set),\n",
        "                              validation_steps=len(test_set))"
      ],
      "execution_count": null,
      "outputs": [
        {
          "output_type": "stream",
          "text": [
            "WARNING:tensorflow:From <ipython-input-13-774fcd42c202>:4: Model.fit_generator (from tensorflow.python.keras.engine.training) is deprecated and will be removed in a future version.\n",
            "Instructions for updating:\n",
            "Please use Model.fit, which supports generators.\n",
            "Epoch 1/150\n",
            "24/24 [==============================] - 4s 171ms/step - loss: 2.4449 - accuracy: 0.2869 - val_loss: 1.1369 - val_accuracy: 0.6324\n",
            "Epoch 2/150\n",
            "24/24 [==============================] - 3s 142ms/step - loss: 0.9144 - accuracy: 0.6329 - val_loss: 0.6829 - val_accuracy: 0.7353\n",
            "Epoch 3/150\n",
            "24/24 [==============================] - 3s 140ms/step - loss: 0.5314 - accuracy: 0.8270 - val_loss: 0.7037 - val_accuracy: 0.7647\n",
            "Epoch 4/150\n",
            "24/24 [==============================] - 3s 144ms/step - loss: 0.4573 - accuracy: 0.8312 - val_loss: 0.2988 - val_accuracy: 0.9265\n",
            "Epoch 5/150\n",
            "24/24 [==============================] - 3s 142ms/step - loss: 0.3877 - accuracy: 0.8481 - val_loss: 0.5426 - val_accuracy: 0.7794\n",
            "Epoch 6/150\n",
            "24/24 [==============================] - 3s 141ms/step - loss: 0.2476 - accuracy: 0.9030 - val_loss: 0.3039 - val_accuracy: 0.9265\n",
            "Epoch 7/150\n",
            "24/24 [==============================] - 3s 142ms/step - loss: 0.2092 - accuracy: 0.9409 - val_loss: 0.1681 - val_accuracy: 0.9412\n",
            "Epoch 8/150\n",
            "24/24 [==============================] - 3s 141ms/step - loss: 0.1315 - accuracy: 0.9662 - val_loss: 0.1996 - val_accuracy: 0.9412\n",
            "Epoch 9/150\n",
            "24/24 [==============================] - 3s 142ms/step - loss: 0.0992 - accuracy: 0.9873 - val_loss: 0.2331 - val_accuracy: 0.9412\n",
            "Epoch 10/150\n",
            "24/24 [==============================] - 3s 141ms/step - loss: 0.0805 - accuracy: 0.9916 - val_loss: 0.3060 - val_accuracy: 0.9118\n",
            "Epoch 11/150\n",
            "24/24 [==============================] - 3s 143ms/step - loss: 0.0670 - accuracy: 0.9958 - val_loss: 0.2762 - val_accuracy: 0.9118\n",
            "Epoch 12/150\n",
            "24/24 [==============================] - 3s 142ms/step - loss: 0.0607 - accuracy: 0.9916 - val_loss: 0.1422 - val_accuracy: 0.9559\n",
            "Epoch 13/150\n",
            "24/24 [==============================] - 3s 141ms/step - loss: 0.0445 - accuracy: 1.0000 - val_loss: 0.2804 - val_accuracy: 0.9118\n",
            "Epoch 14/150\n",
            "24/24 [==============================] - 3s 142ms/step - loss: 0.0417 - accuracy: 1.0000 - val_loss: 0.1438 - val_accuracy: 0.9412\n",
            "Epoch 15/150\n",
            "24/24 [==============================] - 3s 142ms/step - loss: 0.0293 - accuracy: 1.0000 - val_loss: 0.2196 - val_accuracy: 0.9265\n",
            "Epoch 16/150\n",
            "24/24 [==============================] - 3s 141ms/step - loss: 0.0265 - accuracy: 1.0000 - val_loss: 0.1812 - val_accuracy: 0.9265\n",
            "Epoch 17/150\n",
            "24/24 [==============================] - 3s 141ms/step - loss: 0.0198 - accuracy: 1.0000 - val_loss: 0.2207 - val_accuracy: 0.9265\n",
            "Epoch 18/150\n",
            "24/24 [==============================] - 3s 141ms/step - loss: 0.0225 - accuracy: 1.0000 - val_loss: 0.2008 - val_accuracy: 0.9412\n",
            "Epoch 19/150\n",
            "24/24 [==============================] - 3s 142ms/step - loss: 0.0165 - accuracy: 1.0000 - val_loss: 0.2331 - val_accuracy: 0.9265\n",
            "Epoch 20/150\n",
            "24/24 [==============================] - 3s 142ms/step - loss: 0.0145 - accuracy: 1.0000 - val_loss: 0.2422 - val_accuracy: 0.9265\n",
            "Epoch 21/150\n",
            "24/24 [==============================] - 3s 142ms/step - loss: 0.0140 - accuracy: 1.0000 - val_loss: 0.2057 - val_accuracy: 0.9265\n",
            "Epoch 22/150\n",
            "24/24 [==============================] - 3s 141ms/step - loss: 0.0147 - accuracy: 1.0000 - val_loss: 0.2074 - val_accuracy: 0.9265\n",
            "Epoch 23/150\n",
            "24/24 [==============================] - 3s 142ms/step - loss: 0.0161 - accuracy: 1.0000 - val_loss: 0.1469 - val_accuracy: 0.9412\n",
            "Epoch 24/150\n",
            "24/24 [==============================] - 3s 145ms/step - loss: 0.0148 - accuracy: 1.0000 - val_loss: 0.1951 - val_accuracy: 0.9412\n",
            "Epoch 25/150\n",
            "24/24 [==============================] - 3s 142ms/step - loss: 0.0139 - accuracy: 1.0000 - val_loss: 0.2119 - val_accuracy: 0.9412\n",
            "Epoch 26/150\n",
            "24/24 [==============================] - 3s 141ms/step - loss: 0.0119 - accuracy: 1.0000 - val_loss: 0.2224 - val_accuracy: 0.9412\n",
            "Epoch 27/150\n",
            "24/24 [==============================] - 3s 142ms/step - loss: 0.0121 - accuracy: 1.0000 - val_loss: 0.2183 - val_accuracy: 0.9412\n",
            "Epoch 28/150\n",
            "24/24 [==============================] - 3s 141ms/step - loss: 0.0108 - accuracy: 1.0000 - val_loss: 0.2307 - val_accuracy: 0.9265\n",
            "Epoch 29/150\n",
            "24/24 [==============================] - 3s 141ms/step - loss: 0.0105 - accuracy: 1.0000 - val_loss: 0.1979 - val_accuracy: 0.9412\n",
            "Epoch 30/150\n",
            "24/24 [==============================] - 3s 142ms/step - loss: 0.0090 - accuracy: 1.0000 - val_loss: 0.2004 - val_accuracy: 0.9412\n",
            "Epoch 31/150\n",
            "24/24 [==============================] - 3s 141ms/step - loss: 0.0082 - accuracy: 1.0000 - val_loss: 0.2284 - val_accuracy: 0.9412\n",
            "Epoch 32/150\n",
            "24/24 [==============================] - 3s 143ms/step - loss: 0.0081 - accuracy: 1.0000 - val_loss: 0.1943 - val_accuracy: 0.9412\n",
            "Epoch 33/150\n",
            "24/24 [==============================] - 3s 143ms/step - loss: 0.0077 - accuracy: 1.0000 - val_loss: 0.2078 - val_accuracy: 0.9412\n",
            "Epoch 34/150\n",
            "24/24 [==============================] - 3s 141ms/step - loss: 0.0075 - accuracy: 1.0000 - val_loss: 0.1929 - val_accuracy: 0.9412\n",
            "Epoch 35/150\n",
            "24/24 [==============================] - 3s 141ms/step - loss: 0.0070 - accuracy: 1.0000 - val_loss: 0.1938 - val_accuracy: 0.9412\n",
            "Epoch 36/150\n",
            "24/24 [==============================] - 3s 144ms/step - loss: 0.0085 - accuracy: 1.0000 - val_loss: 0.2694 - val_accuracy: 0.9265\n",
            "Epoch 37/150\n",
            "24/24 [==============================] - 3s 145ms/step - loss: 0.0082 - accuracy: 1.0000 - val_loss: 0.1950 - val_accuracy: 0.9412\n",
            "Epoch 38/150\n",
            "24/24 [==============================] - 3s 146ms/step - loss: 0.0063 - accuracy: 1.0000 - val_loss: 0.2522 - val_accuracy: 0.9265\n",
            "Epoch 39/150\n",
            "24/24 [==============================] - 3s 143ms/step - loss: 0.0068 - accuracy: 1.0000 - val_loss: 0.2506 - val_accuracy: 0.9412\n",
            "Epoch 40/150\n",
            "24/24 [==============================] - 3s 142ms/step - loss: 0.0068 - accuracy: 1.0000 - val_loss: 0.2386 - val_accuracy: 0.9412\n",
            "Epoch 41/150\n",
            "24/24 [==============================] - 3s 141ms/step - loss: 0.0059 - accuracy: 1.0000 - val_loss: 0.2075 - val_accuracy: 0.9412\n",
            "Epoch 42/150\n",
            "24/24 [==============================] - 3s 142ms/step - loss: 0.0104 - accuracy: 1.0000 - val_loss: 0.2147 - val_accuracy: 0.9412\n",
            "Epoch 43/150\n",
            "24/24 [==============================] - 3s 140ms/step - loss: 0.0067 - accuracy: 1.0000 - val_loss: 0.2267 - val_accuracy: 0.9412\n",
            "Epoch 44/150\n",
            "24/24 [==============================] - 3s 139ms/step - loss: 0.0077 - accuracy: 1.0000 - val_loss: 0.2225 - val_accuracy: 0.9412\n",
            "Epoch 45/150\n",
            "24/24 [==============================] - 3s 143ms/step - loss: 0.0053 - accuracy: 1.0000 - val_loss: 0.2544 - val_accuracy: 0.9412\n",
            "Epoch 46/150\n",
            "24/24 [==============================] - 3s 142ms/step - loss: 0.0052 - accuracy: 1.0000 - val_loss: 0.2183 - val_accuracy: 0.9412\n",
            "Epoch 47/150\n",
            "24/24 [==============================] - 3s 141ms/step - loss: 0.0049 - accuracy: 1.0000 - val_loss: 0.1801 - val_accuracy: 0.9412\n",
            "Epoch 48/150\n",
            "24/24 [==============================] - 3s 140ms/step - loss: 0.0045 - accuracy: 1.0000 - val_loss: 0.2734 - val_accuracy: 0.9265\n",
            "Epoch 49/150\n",
            "24/24 [==============================] - 3s 139ms/step - loss: 0.0047 - accuracy: 1.0000 - val_loss: 0.2006 - val_accuracy: 0.9412\n",
            "Epoch 50/150\n",
            "24/24 [==============================] - 3s 141ms/step - loss: 0.0047 - accuracy: 1.0000 - val_loss: 0.1944 - val_accuracy: 0.9412\n",
            "Epoch 51/150\n",
            "24/24 [==============================] - 3s 140ms/step - loss: 0.0036 - accuracy: 1.0000 - val_loss: 0.2022 - val_accuracy: 0.9412\n",
            "Epoch 52/150\n",
            "24/24 [==============================] - 3s 141ms/step - loss: 0.0044 - accuracy: 1.0000 - val_loss: 0.2314 - val_accuracy: 0.9412\n",
            "Epoch 53/150\n",
            "24/24 [==============================] - 3s 140ms/step - loss: 0.0047 - accuracy: 1.0000 - val_loss: 0.2174 - val_accuracy: 0.9412\n",
            "Epoch 54/150\n",
            "24/24 [==============================] - 3s 140ms/step - loss: 0.0038 - accuracy: 1.0000 - val_loss: 0.2327 - val_accuracy: 0.9412\n",
            "Epoch 55/150\n",
            "24/24 [==============================] - 3s 139ms/step - loss: 0.0043 - accuracy: 1.0000 - val_loss: 0.1907 - val_accuracy: 0.9412\n",
            "Epoch 56/150\n",
            "24/24 [==============================] - 3s 139ms/step - loss: 0.0045 - accuracy: 1.0000 - val_loss: 0.2009 - val_accuracy: 0.9412\n",
            "Epoch 57/150\n",
            "24/24 [==============================] - 3s 140ms/step - loss: 0.0034 - accuracy: 1.0000 - val_loss: 0.2330 - val_accuracy: 0.9412\n",
            "Epoch 58/150\n",
            "24/24 [==============================] - 3s 140ms/step - loss: 0.0035 - accuracy: 1.0000 - val_loss: 0.2126 - val_accuracy: 0.9412\n",
            "Epoch 59/150\n",
            "24/24 [==============================] - 3s 140ms/step - loss: 0.0033 - accuracy: 1.0000 - val_loss: 0.2252 - val_accuracy: 0.9412\n",
            "Epoch 60/150\n",
            "24/24 [==============================] - 3s 140ms/step - loss: 0.0029 - accuracy: 1.0000 - val_loss: 0.2282 - val_accuracy: 0.9412\n",
            "Epoch 61/150\n",
            "24/24 [==============================] - 3s 140ms/step - loss: 0.0030 - accuracy: 1.0000 - val_loss: 0.2575 - val_accuracy: 0.9412\n",
            "Epoch 62/150\n",
            "24/24 [==============================] - 3s 141ms/step - loss: 0.0025 - accuracy: 1.0000 - val_loss: 0.2082 - val_accuracy: 0.9412\n",
            "Epoch 63/150\n",
            "24/24 [==============================] - 3s 140ms/step - loss: 0.0030 - accuracy: 1.0000 - val_loss: 0.2489 - val_accuracy: 0.9412\n",
            "Epoch 64/150\n",
            "24/24 [==============================] - 3s 140ms/step - loss: 0.0027 - accuracy: 1.0000 - val_loss: 0.2480 - val_accuracy: 0.9412\n",
            "Epoch 65/150\n",
            "24/24 [==============================] - 3s 141ms/step - loss: 0.0033 - accuracy: 1.0000 - val_loss: 0.2204 - val_accuracy: 0.9412\n",
            "Epoch 66/150\n",
            "24/24 [==============================] - 3s 141ms/step - loss: 0.0027 - accuracy: 1.0000 - val_loss: 0.2484 - val_accuracy: 0.9412\n",
            "Epoch 67/150\n",
            "24/24 [==============================] - 3s 140ms/step - loss: 0.0026 - accuracy: 1.0000 - val_loss: 0.2277 - val_accuracy: 0.9412\n",
            "Epoch 68/150\n",
            "24/24 [==============================] - 3s 141ms/step - loss: 0.0030 - accuracy: 1.0000 - val_loss: 0.2366 - val_accuracy: 0.9412\n",
            "Epoch 69/150\n",
            "24/24 [==============================] - 3s 143ms/step - loss: 0.0027 - accuracy: 1.0000 - val_loss: 0.2468 - val_accuracy: 0.9412\n",
            "Epoch 70/150\n",
            "24/24 [==============================] - 3s 140ms/step - loss: 0.0025 - accuracy: 1.0000 - val_loss: 0.1894 - val_accuracy: 0.9412\n",
            "Epoch 71/150\n",
            "24/24 [==============================] - 3s 140ms/step - loss: 0.0026 - accuracy: 1.0000 - val_loss: 0.2433 - val_accuracy: 0.9412\n",
            "Epoch 72/150\n",
            "24/24 [==============================] - 3s 141ms/step - loss: 0.0021 - accuracy: 1.0000 - val_loss: 0.2218 - val_accuracy: 0.9412\n",
            "Epoch 73/150\n",
            "24/24 [==============================] - 3s 140ms/step - loss: 0.0027 - accuracy: 1.0000 - val_loss: 0.2427 - val_accuracy: 0.9412\n",
            "Epoch 74/150\n",
            "24/24 [==============================] - 3s 142ms/step - loss: 0.0024 - accuracy: 1.0000 - val_loss: 0.2176 - val_accuracy: 0.9412\n",
            "Epoch 75/150\n",
            "24/24 [==============================] - 3s 142ms/step - loss: 0.0019 - accuracy: 1.0000 - val_loss: 0.2294 - val_accuracy: 0.9412\n",
            "Epoch 76/150\n",
            "24/24 [==============================] - 3s 139ms/step - loss: 0.0018 - accuracy: 1.0000 - val_loss: 0.2184 - val_accuracy: 0.9412\n",
            "Epoch 77/150\n",
            "24/24 [==============================] - 3s 141ms/step - loss: 0.0020 - accuracy: 1.0000 - val_loss: 0.2409 - val_accuracy: 0.9412\n",
            "Epoch 78/150\n",
            "24/24 [==============================] - 3s 142ms/step - loss: 0.0019 - accuracy: 1.0000 - val_loss: 0.2510 - val_accuracy: 0.9412\n",
            "Epoch 79/150\n",
            "24/24 [==============================] - 3s 141ms/step - loss: 0.0023 - accuracy: 1.0000 - val_loss: 0.2477 - val_accuracy: 0.9412\n",
            "Epoch 80/150\n",
            "24/24 [==============================] - 3s 140ms/step - loss: 0.0021 - accuracy: 1.0000 - val_loss: 0.2443 - val_accuracy: 0.9412\n",
            "Epoch 81/150\n",
            "24/24 [==============================] - 3s 141ms/step - loss: 0.0017 - accuracy: 1.0000 - val_loss: 0.2341 - val_accuracy: 0.9412\n",
            "Epoch 82/150\n",
            "24/24 [==============================] - 3s 141ms/step - loss: 0.0018 - accuracy: 1.0000 - val_loss: 0.1806 - val_accuracy: 0.9412\n",
            "Epoch 83/150\n",
            "24/24 [==============================] - 3s 139ms/step - loss: 0.0016 - accuracy: 1.0000 - val_loss: 0.2605 - val_accuracy: 0.9412\n",
            "Epoch 84/150\n",
            "24/24 [==============================] - 3s 140ms/step - loss: 0.0019 - accuracy: 1.0000 - val_loss: 0.2424 - val_accuracy: 0.9412\n",
            "Epoch 85/150\n",
            "24/24 [==============================] - 3s 139ms/step - loss: 0.0018 - accuracy: 1.0000 - val_loss: 0.2459 - val_accuracy: 0.9412\n",
            "Epoch 86/150\n",
            "24/24 [==============================] - 3s 140ms/step - loss: 0.0019 - accuracy: 1.0000 - val_loss: 0.2534 - val_accuracy: 0.9412\n",
            "Epoch 87/150\n",
            "24/24 [==============================] - 3s 139ms/step - loss: 0.0017 - accuracy: 1.0000 - val_loss: 0.2483 - val_accuracy: 0.9412\n",
            "Epoch 88/150\n",
            "24/24 [==============================] - 3s 141ms/step - loss: 0.0017 - accuracy: 1.0000 - val_loss: 0.2461 - val_accuracy: 0.9412\n",
            "Epoch 89/150\n",
            "24/24 [==============================] - 3s 139ms/step - loss: 0.0020 - accuracy: 1.0000 - val_loss: 0.2277 - val_accuracy: 0.9412\n",
            "Epoch 90/150\n",
            "24/24 [==============================] - 3s 141ms/step - loss: 0.0014 - accuracy: 1.0000 - val_loss: 0.2554 - val_accuracy: 0.9412\n",
            "Epoch 91/150\n",
            "24/24 [==============================] - 3s 141ms/step - loss: 0.0015 - accuracy: 1.0000 - val_loss: 0.2341 - val_accuracy: 0.9412\n",
            "Epoch 92/150\n",
            "24/24 [==============================] - 3s 141ms/step - loss: 0.0017 - accuracy: 1.0000 - val_loss: 0.2517 - val_accuracy: 0.9412\n",
            "Epoch 93/150\n",
            "24/24 [==============================] - 3s 143ms/step - loss: 0.0015 - accuracy: 1.0000 - val_loss: 0.2274 - val_accuracy: 0.9412\n",
            "Epoch 94/150\n",
            "24/24 [==============================] - 3s 143ms/step - loss: 0.0016 - accuracy: 1.0000 - val_loss: 0.2035 - val_accuracy: 0.9412\n",
            "Epoch 95/150\n",
            "24/24 [==============================] - 3s 141ms/step - loss: 0.0016 - accuracy: 1.0000 - val_loss: 0.2427 - val_accuracy: 0.9412\n",
            "Epoch 96/150\n",
            "24/24 [==============================] - 3s 143ms/step - loss: 0.0015 - accuracy: 1.0000 - val_loss: 0.2194 - val_accuracy: 0.9412\n",
            "Epoch 97/150\n",
            "24/24 [==============================] - 3s 139ms/step - loss: 0.0022 - accuracy: 1.0000 - val_loss: 0.2422 - val_accuracy: 0.9265\n",
            "Epoch 98/150\n",
            "24/24 [==============================] - 3s 140ms/step - loss: 0.0016 - accuracy: 1.0000 - val_loss: 0.2157 - val_accuracy: 0.9412\n",
            "Epoch 99/150\n",
            "24/24 [==============================] - 3s 140ms/step - loss: 0.0012 - accuracy: 1.0000 - val_loss: 0.2313 - val_accuracy: 0.9412\n",
            "Epoch 100/150\n",
            "24/24 [==============================] - 3s 139ms/step - loss: 0.0012 - accuracy: 1.0000 - val_loss: 0.2470 - val_accuracy: 0.9412\n",
            "Epoch 101/150\n",
            "24/24 [==============================] - 3s 140ms/step - loss: 0.0015 - accuracy: 1.0000 - val_loss: 0.2028 - val_accuracy: 0.9412\n",
            "Epoch 102/150\n",
            "24/24 [==============================] - 3s 143ms/step - loss: 0.0012 - accuracy: 1.0000 - val_loss: 0.2624 - val_accuracy: 0.9412\n",
            "Epoch 103/150\n",
            "24/24 [==============================] - 3s 140ms/step - loss: 0.0014 - accuracy: 1.0000 - val_loss: 0.2297 - val_accuracy: 0.9412\n",
            "Epoch 104/150\n",
            "24/24 [==============================] - 3s 141ms/step - loss: 0.0012 - accuracy: 1.0000 - val_loss: 0.2324 - val_accuracy: 0.9412\n",
            "Epoch 105/150\n",
            "24/24 [==============================] - 3s 142ms/step - loss: 0.0012 - accuracy: 1.0000 - val_loss: 0.2436 - val_accuracy: 0.9412\n",
            "Epoch 106/150\n",
            "24/24 [==============================] - 3s 140ms/step - loss: 0.0010 - accuracy: 1.0000 - val_loss: 0.2014 - val_accuracy: 0.9412\n",
            "Epoch 107/150\n",
            "24/24 [==============================] - 3s 140ms/step - loss: 9.6906e-04 - accuracy: 1.0000 - val_loss: 0.2281 - val_accuracy: 0.9412\n",
            "Epoch 108/150\n",
            "24/24 [==============================] - 3s 140ms/step - loss: 0.0010 - accuracy: 1.0000 - val_loss: 0.2381 - val_accuracy: 0.9412\n",
            "Epoch 109/150\n",
            "24/24 [==============================] - 3s 141ms/step - loss: 0.0012 - accuracy: 1.0000 - val_loss: 0.2325 - val_accuracy: 0.9412\n",
            "Epoch 110/150\n",
            "24/24 [==============================] - 3s 142ms/step - loss: 9.0491e-04 - accuracy: 1.0000 - val_loss: 0.2446 - val_accuracy: 0.9412\n",
            "Epoch 111/150\n",
            "24/24 [==============================] - 3s 141ms/step - loss: 9.2649e-04 - accuracy: 1.0000 - val_loss: 0.2412 - val_accuracy: 0.9412\n",
            "Epoch 112/150\n",
            "24/24 [==============================] - 3s 141ms/step - loss: 0.0011 - accuracy: 1.0000 - val_loss: 0.2392 - val_accuracy: 0.9412\n",
            "Epoch 113/150\n",
            "24/24 [==============================] - 3s 141ms/step - loss: 0.0014 - accuracy: 1.0000 - val_loss: 0.2662 - val_accuracy: 0.9412\n",
            "Epoch 114/150\n",
            "24/24 [==============================] - 3s 142ms/step - loss: 0.0011 - accuracy: 1.0000 - val_loss: 0.2212 - val_accuracy: 0.9412\n",
            "Epoch 115/150\n",
            "24/24 [==============================] - 3s 141ms/step - loss: 8.7136e-04 - accuracy: 1.0000 - val_loss: 0.2324 - val_accuracy: 0.9412\n",
            "Epoch 116/150\n",
            "24/24 [==============================] - 3s 139ms/step - loss: 9.4981e-04 - accuracy: 1.0000 - val_loss: 0.2556 - val_accuracy: 0.9412\n",
            "Epoch 117/150\n",
            "24/24 [==============================] - 3s 142ms/step - loss: 0.0010 - accuracy: 1.0000 - val_loss: 0.2272 - val_accuracy: 0.9412\n",
            "Epoch 118/150\n",
            "24/24 [==============================] - 3s 140ms/step - loss: 0.0010 - accuracy: 1.0000 - val_loss: 0.2211 - val_accuracy: 0.9412\n",
            "Epoch 119/150\n",
            "24/24 [==============================] - 3s 140ms/step - loss: 0.0012 - accuracy: 1.0000 - val_loss: 0.2200 - val_accuracy: 0.9412\n",
            "Epoch 120/150\n",
            "24/24 [==============================] - 3s 141ms/step - loss: 8.8176e-04 - accuracy: 1.0000 - val_loss: 0.2441 - val_accuracy: 0.9412\n",
            "Epoch 121/150\n",
            "24/24 [==============================] - 3s 142ms/step - loss: 0.0010 - accuracy: 1.0000 - val_loss: 0.2424 - val_accuracy: 0.9412\n",
            "Epoch 122/150\n",
            "24/24 [==============================] - 3s 140ms/step - loss: 9.6744e-04 - accuracy: 1.0000 - val_loss: 0.2462 - val_accuracy: 0.9412\n",
            "Epoch 123/150\n",
            "24/24 [==============================] - 3s 142ms/step - loss: 9.6409e-04 - accuracy: 1.0000 - val_loss: 0.2694 - val_accuracy: 0.9265\n",
            "Epoch 124/150\n",
            "24/24 [==============================] - 3s 143ms/step - loss: 9.3972e-04 - accuracy: 1.0000 - val_loss: 0.2443 - val_accuracy: 0.9412\n",
            "Epoch 125/150\n",
            "24/24 [==============================] - 3s 144ms/step - loss: 9.6928e-04 - accuracy: 1.0000 - val_loss: 0.2361 - val_accuracy: 0.9412\n",
            "Epoch 126/150\n",
            "24/24 [==============================] - 3s 142ms/step - loss: 9.3944e-04 - accuracy: 1.0000 - val_loss: 0.2308 - val_accuracy: 0.9412\n",
            "Epoch 127/150\n",
            "24/24 [==============================] - 3s 141ms/step - loss: 6.7579e-04 - accuracy: 1.0000 - val_loss: 0.2424 - val_accuracy: 0.9412\n",
            "Epoch 128/150\n",
            "24/24 [==============================] - 3s 139ms/step - loss: 7.9264e-04 - accuracy: 1.0000 - val_loss: 0.2274 - val_accuracy: 0.9412\n",
            "Epoch 129/150\n",
            "24/24 [==============================] - 3s 141ms/step - loss: 8.9426e-04 - accuracy: 1.0000 - val_loss: 0.2301 - val_accuracy: 0.9412\n",
            "Epoch 130/150\n",
            "24/24 [==============================] - 3s 142ms/step - loss: 8.4577e-04 - accuracy: 1.0000 - val_loss: 0.2424 - val_accuracy: 0.9412\n",
            "Epoch 131/150\n",
            "24/24 [==============================] - 3s 139ms/step - loss: 7.9091e-04 - accuracy: 1.0000 - val_loss: 0.2314 - val_accuracy: 0.9412\n",
            "Epoch 132/150\n",
            "24/24 [==============================] - 3s 140ms/step - loss: 8.6655e-04 - accuracy: 1.0000 - val_loss: 0.2142 - val_accuracy: 0.9412\n",
            "Epoch 133/150\n",
            "24/24 [==============================] - 3s 140ms/step - loss: 7.5720e-04 - accuracy: 1.0000 - val_loss: 0.2472 - val_accuracy: 0.9412\n",
            "Epoch 134/150\n",
            "24/24 [==============================] - 3s 141ms/step - loss: 6.6589e-04 - accuracy: 1.0000 - val_loss: 0.2466 - val_accuracy: 0.9412\n",
            "Epoch 135/150\n",
            "24/24 [==============================] - 3s 141ms/step - loss: 8.1566e-04 - accuracy: 1.0000 - val_loss: 0.2433 - val_accuracy: 0.9412\n",
            "Epoch 136/150\n",
            "24/24 [==============================] - 3s 140ms/step - loss: 7.3304e-04 - accuracy: 1.0000 - val_loss: 0.2316 - val_accuracy: 0.9412\n",
            "Epoch 137/150\n",
            "24/24 [==============================] - 3s 140ms/step - loss: 8.4235e-04 - accuracy: 1.0000 - val_loss: 0.2630 - val_accuracy: 0.9412\n",
            "Epoch 138/150\n",
            "24/24 [==============================] - 3s 140ms/step - loss: 8.1861e-04 - accuracy: 1.0000 - val_loss: 0.2386 - val_accuracy: 0.9412\n",
            "Epoch 139/150\n",
            "24/24 [==============================] - 3s 139ms/step - loss: 7.6057e-04 - accuracy: 1.0000 - val_loss: 0.2653 - val_accuracy: 0.9412\n",
            "Epoch 140/150\n",
            "24/24 [==============================] - 3s 138ms/step - loss: 7.2537e-04 - accuracy: 1.0000 - val_loss: 0.2247 - val_accuracy: 0.9412\n",
            "Epoch 141/150\n",
            "24/24 [==============================] - 3s 139ms/step - loss: 6.3133e-04 - accuracy: 1.0000 - val_loss: 0.2358 - val_accuracy: 0.9412\n",
            "Epoch 142/150\n",
            "24/24 [==============================] - 3s 139ms/step - loss: 6.6428e-04 - accuracy: 1.0000 - val_loss: 0.2590 - val_accuracy: 0.9412\n",
            "Epoch 143/150\n",
            "24/24 [==============================] - 3s 138ms/step - loss: 6.1793e-04 - accuracy: 1.0000 - val_loss: 0.2589 - val_accuracy: 0.9412\n",
            "Epoch 144/150\n",
            "24/24 [==============================] - 3s 140ms/step - loss: 5.4280e-04 - accuracy: 1.0000 - val_loss: 0.2237 - val_accuracy: 0.9412\n",
            "Epoch 145/150\n",
            "24/24 [==============================] - 3s 138ms/step - loss: 7.1659e-04 - accuracy: 1.0000 - val_loss: 0.2462 - val_accuracy: 0.9412\n",
            "Epoch 146/150\n",
            "24/24 [==============================] - 3s 139ms/step - loss: 6.6129e-04 - accuracy: 1.0000 - val_loss: 0.2374 - val_accuracy: 0.9412\n",
            "Epoch 147/150\n",
            "24/24 [==============================] - 3s 138ms/step - loss: 5.3384e-04 - accuracy: 1.0000 - val_loss: 0.2605 - val_accuracy: 0.9412\n",
            "Epoch 148/150\n",
            "24/24 [==============================] - 3s 140ms/step - loss: 5.9095e-04 - accuracy: 1.0000 - val_loss: 0.2483 - val_accuracy: 0.9412\n",
            "Epoch 149/150\n",
            "24/24 [==============================] - 3s 138ms/step - loss: 6.6051e-04 - accuracy: 1.0000 - val_loss: 0.2399 - val_accuracy: 0.9412\n",
            "Epoch 150/150\n",
            "24/24 [==============================] - 3s 139ms/step - loss: 6.4149e-04 - accuracy: 1.0000 - val_loss: 0.2625 - val_accuracy: 0.9412\n"
          ],
          "name": "stdout"
        }
      ]
    },
    {
      "cell_type": "code",
      "metadata": {
        "id": "GHFoTrsEjNQq",
        "outputId": "2c921ad5-b3ae-4d4c-983c-30681e62e47c",
        "colab": {
          "base_uri": "https://localhost:8080/",
          "height": 529
        }
      },
      "source": [
        "import matplotlib.pyplot as plt\n",
        "accuracy = history.history['accuracy']\n",
        "val_accuracy = history.history['val_accuracy']\n",
        "loss = history.history['loss']\n",
        "val_loss = history.history['val_loss']\n",
        "epochs = range(len(accuracy))\n",
        "plt.title(\"VGG19\")\n",
        "plt.plot(epochs, accuracy, \"b\", label=\"trainning accuracy\")\n",
        "plt.plot(epochs, val_accuracy, \"r\", label=\"validation accuracy\")\n",
        "plt.legend()\n",
        "plt.show()\n",
        "\n",
        "plt.plot(epochs, loss, \"b\", label=\"trainning loss\")\n",
        "plt.plot(epochs, val_loss, \"r\", label=\"validation loss\")\n",
        "plt.legend()\n",
        "plt.show()"
      ],
      "execution_count": null,
      "outputs": [
        {
          "output_type": "display_data",
          "data": {
            "image/png": "[encoded data removed]",
            "text/plain": [
              "<Figure size 432x288 with 1 Axes>"
            ]
          },
          "metadata": {
            "tags": [],
            "needs_background": "light"
          }
        },
        {
          "output_type": "display_data",
          "data": {
            "image/png": "[encoded data removed]",
            "text/plain": [
              "<Figure size 432x288 with 1 Axes>"
            ]
          },
          "metadata": {
            "tags": [],
            "needs_background": "light"
          }
        }
      ]
    },
    {
      "cell_type": "code",
      "metadata": {
        "id": "t9hP3LO9mu-O",
        "outputId": "0b92e825-4355-4d1f-de24-10c2b799cd47",
        "colab": {
          "base_uri": "https://localhost:8080/",
          "height": 90
        }
      },
      "source": [
        "y_pred = model.predict(test_set)\n",
        "np.argmax(y_pred, axis=1)"
      ],
      "execution_count": null,
      "outputs": [
        {
          "output_type": "execute_result",
          "data": {
            "text/plain": [
              "array([2, 1, 2, 1, 4, 2, 1, 1, 1, 4, 1, 4, 0, 4, 4, 3, 4, 2, 0, 2, 0, 0,\n",
              "       1, 4, 2, 2, 3, 4, 2, 4, 0, 4, 1, 3, 2, 4, 1, 1, 3, 3, 3, 3, 2, 2,\n",
              "       2, 2, 3, 4, 3, 3, 3, 4, 3, 1, 3, 0, 4, 1, 0, 3, 0, 0, 3, 3, 1, 3,\n",
              "       4, 2])"
            ]
          },
          "metadata": {
            "tags": []
          },
          "execution_count": 23
        }
      ]
    },
    {
      "cell_type": "code",
      "metadata": {
        "id": "EI5yPX5YnANX",
        "outputId": "d79a88ee-c1f4-4d43-f19c-0d77121fe354",
        "colab": {
          "base_uri": "https://localhost:8080/",
          "height": 35
        }
      },
      "source": [
        "class_dict = train_set.class_indices\n",
        "class_dict"
      ],
      "execution_count": null,
      "outputs": [
        {
          "output_type": "execute_result",
          "data": {
            "text/plain": [
              "{'Audi': 0, 'Ferrari': 1, 'Lamborghini': 2, 'Marcedez Car': 3, 'Tesla Car': 4}"
            ]
          },
          "metadata": {
            "tags": []
          },
          "execution_count": 24
        }
      ]
    },
    {
      "cell_type": "code",
      "metadata": {
        "id": "tWS7TQkZnJY_",
        "outputId": "db379c29-5dd5-4c92-f9f8-7042efe5368f",
        "colab": {
          "base_uri": "https://localhost:8080/",
          "height": 35
        }
      },
      "source": [
        "model.save(\"carss.model\")"
      ],
      "execution_count": null,
      "outputs": [
        {
          "output_type": "stream",
          "text": [
            "INFO:tensorflow:Assets written to: carss.model/assets\n"
          ],
          "name": "stdout"
        }
      ]
    },
    {
      "cell_type": "code",
      "metadata": {
        "id": "jjrsSoRXnWGB"
      },
      "source": [
        "import tensorflow as tf\n",
        "def prepare(path):\n",
        "  img_array = cv2.imread(path, cv2.IMREAD_COLOR)\n",
        "  new_array = cv2.resize(img_array, (IMG_SIZE, IMG_SIZE))\n",
        "  new_array = new_array / 255\n",
        "  return new_array.reshape(-1, IMG_SIZE, IMG_SIZE, 3)\n",
        "\n",
        "model = tf.keras.models.load_model(\"carss.model\")"
      ],
      "execution_count": null,
      "outputs": []
    },
    {
      "cell_type": "code",
      "metadata": {
        "id": "JqueV7cqonVN",
        "outputId": "6e21e8fc-3e68-4b22-8fce-c12bac0843e8",
        "colab": {
          "base_uri": "https://localhost:8080/",
          "height": 35
        }
      },
      "source": [
        "predict = model.predict([prepare(\"/content/car/car image/test/Audi/Audi10.jpg\")])\n",
        "if np.argmax(predict) == 0:\n",
        "  print(\"Audi\")\n",
        "elif np.argmax(predict) == 1:\n",
        "  print(\"Ferrari\")\n",
        "elif np.argmax(predict) == 2:\n",
        "  print(\"Lamborghini\")\n",
        "elif np.argmax(predict) == 3:\n",
        "  print(\"Mercidez\")\n",
        "else:\n",
        "  print(\"Tesla\")"
      ],
      "execution_count": null,
      "outputs": [
        {
          "output_type": "stream",
          "text": [
            "Audi\n"
          ],
          "name": "stdout"
        }
      ]
    },
    {
      "cell_type": "code",
      "metadata": {
        "id": "a0hcSzZBo77w",
        "outputId": "cf8c4818-65da-4940-f626-6718320288ff",
        "colab": {
          "base_uri": "https://localhost:8080/",
          "height": 35
        }
      },
      "source": [
        "prediction = model.predict([prepare(\"/content/00-mercedes-benz-ag-company-2560x1440.jpeg\")])\n",
        "if np.argmax(prediction) == 0:\n",
        "  print(\"Audi\")\n",
        "elif np.argmax(prediction) == 1:\n",
        "  print(\"Ferrari\")\n",
        "elif np.argmax(prediction) == 2:\n",
        "  print(\"Lamborghini\")\n",
        "elif np.argmax(prediction) == 3:\n",
        "  print(\"Mercidez\")\n",
        "elif np.argmax(prediction) == 4:\n",
        "  print(\"Tesla\")"
      ],
      "execution_count": null,
      "outputs": [
        {
          "output_type": "stream",
          "text": [
            "Lamborghini\n"
          ],
          "name": "stdout"
        }
      ]
    },
    {
      "cell_type": "code",
      "metadata": {
        "id": "KHZy9CyetPhu",
        "outputId": "b7ee4aaa-f817-4d0a-ce01-90620ebb7b97",
        "colab": {
          "base_uri": "https://localhost:8080/",
          "height": 35
        }
      },
      "source": [
        "predict = model.predict([prepare(\"/content/2019-Audi-S7-TDI-sedan-White-1001x565.jpg\")])\n",
        "np.argmax(predict)"
      ],
      "execution_count": null,
      "outputs": [
        {
          "output_type": "execute_result",
          "data": {
            "text/plain": [
              "0"
            ]
          },
          "metadata": {
            "tags": []
          },
          "execution_count": 35
        }
      ]
    },
    {
      "cell_type": "code",
      "metadata": {
        "id": "muG9oT5cx2WN"
      },
      "source": [
        ""
      ],
      "execution_count": null,
      "outputs": []
    }
  ]
}